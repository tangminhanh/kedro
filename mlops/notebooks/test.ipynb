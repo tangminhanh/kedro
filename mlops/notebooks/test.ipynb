{
 "cells": [
  {
   "cell_type": "code",
   "execution_count": 2,
   "metadata": {},
   "outputs": [
    {
     "data": {
      "text/plain": [
       "{0: 'Technology Services',\n",
       " 1: 'Finance',\n",
       " 2: 'Projects & Design',\n",
       " 3: 'Engineering',\n",
       " 4: 'HR',\n",
       " 5: 'Customer Success',\n",
       " 6: 'Document Controller',\n",
       " 7: 'Legal & Compliance',\n",
       " 8: 'Marketing',\n",
       " 9: 'Service Delivery External',\n",
       " 10: 'Operations Team'}"
      ]
     },
     "execution_count": 2,
     "metadata": {},
     "output_type": "execute_result"
    }
   ],
   "source": [
    "import pandas as pd\n",
    "import pickle\n",
    "path = '../data/04_feature/department_label_encoded_dir/id2label.pkl'\n",
    "\n",
    "object = pd.read_pickle(path)\n",
    "object\n"
   ]
  },
  {
   "cell_type": "code",
   "execution_count": null,
   "metadata": {},
   "outputs": [],
   "source": [
    "with open('../data/05_model_input/tokenized_department_dataset/test'):\n",
    "    "
   ]
  },
  {
   "cell_type": "code",
   "execution_count": 5,
   "metadata": {},
   "outputs": [],
   "source": [
    "def preprocess_function(train_dataset, test_dataset, department2id):\n",
    "    os.environ[\"TOKENIZERS_PARALLELISM\"] = \"false\"\n",
    "\n",
    "    def process_dataset(dataset, department2id):\n",
    "        texts = dataset[\"Description\"]\n",
    "        departments = [\n",
    "            col for col in dataset.column_names if col != 'Description']\n",
    "        labels_list = []\n",
    "\n",
    "        for example in dataset:\n",
    "            labels = [0. for _ in range(len(departments))]\n",
    "            for department in departments:\n",
    "                if example[department] == 1:\n",
    "                    label_id = department2id[department]\n",
    "                    labels[label_id] = 1.\n",
    "            labels_list.append(labels)\n",
    "\n",
    "        encoded_texts = tokenizer(\n",
    "            texts,\n",
    "            truncation=True,\n",
    "            padding='max_length',\n",
    "            max_length=512\n",
    "        )\n",
    "\n",
    "        encoded_dict = {key: val for key, val in encoded_texts.items()}\n",
    "        encoded_dict['labels'] = labels_list\n",
    "\n",
    "        return Dataset.from_dict(encoded_dict)\n",
    "\n",
    "    tokenized_train_dataset = process_dataset(train_dataset, department2id)\n",
    "    tokenized_test_dataset = process_dataset(test_dataset, department2id)\n",
    "\n",
    "    return tokenized_train_dataset, tokenized_test_dataset\n"
   ]
  },
  {
   "cell_type": "code",
   "execution_count": 3,
   "metadata": {},
   "outputs": [],
   "source": [
    "with open('../data/04_feature/department_label_encoded_dir/label2id.pkl', 'rb') as f:\n",
    "    label2id = pickle.load(f)\n",
    "\n",
    "id2label = {v: k for k, v in label2id.items()}\n"
   ]
  },
  {
   "cell_type": "code",
   "execution_count": 4,
   "metadata": {},
   "outputs": [
    {
     "data": {
      "text/plain": [
       "{0: 'Technology Services',\n",
       " 1: 'Finance',\n",
       " 2: 'Projects & Design',\n",
       " 3: 'Engineering',\n",
       " 4: 'HR',\n",
       " 5: 'Customer Success',\n",
       " 6: 'Document Controller',\n",
       " 7: 'Legal & Compliance',\n",
       " 8: 'Marketing',\n",
       " 9: 'Service Delivery External',\n",
       " 10: 'Operations Team'}"
      ]
     },
     "execution_count": 4,
     "metadata": {},
     "output_type": "execute_result"
    }
   ],
   "source": [
    "id2label"
   ]
  }
 ],
 "metadata": {
  "kernelspec": {
   "display_name": "Python 3.10.13 64-bit",
   "language": "python",
   "name": "python3"
  },
  "language_info": {
   "codemirror_mode": {
    "name": "ipython",
    "version": 3
   },
   "file_extension": ".py",
   "mimetype": "text/x-python",
   "name": "python",
   "nbconvert_exporter": "python",
   "pygments_lexer": "ipython3",
   "version": "3.10.13"
  },
  "orig_nbformat": 4,
  "vscode": {
   "interpreter": {
    "hash": "bd385fe162c5ca0c84973b7dd5c518456272446b2b64e67c2a69f949ca7a1754"
   }
  }
 },
 "nbformat": 4,
 "nbformat_minor": 2
}
